{
 "cells": [
  {
   "cell_type": "code",
   "execution_count": 1,
   "metadata": {
    "colab": {
     "base_uri": "https://localhost:8080/"
    },
    "executionInfo": {
     "elapsed": 4,
     "status": "ok",
     "timestamp": 1696289517013,
     "user": {
      "displayName": "Mahdi Moeini",
      "userId": "03671813669356560168"
     },
     "user_tz": -210
    },
    "id": "za0kvkt7u2Z5",
    "outputId": "78ba6e7e-7a2c-4096-e595-beca84ab98ba"
   },
   "outputs": [
    {
     "name": "stdout",
     "output_type": "stream",
     "text": [
      "hello world\n"
     ]
    }
   ],
   "source": [
    "print(\"hello world\")"
   ]
  },
  {
   "cell_type": "code",
   "execution_count": 5,
   "metadata": {
    "colab": {
     "base_uri": "https://localhost:8080/"
    },
    "executionInfo": {
     "elapsed": 465,
     "status": "ok",
     "timestamp": 1696291975084,
     "user": {
      "displayName": "Mahdi Moeini",
      "userId": "03671813669356560168"
     },
     "user_tz": -210
    },
    "id": "pkpddRws38lF",
    "outputId": "86cc6e76-0be1-4979-c924-c5c320897ba3"
   },
   "outputs": [
    {
     "name": "stdout",
     "output_type": "stream",
     "text": [
      "Cloning into '/content/EEG'...\n",
      "remote: Enumerating objects: 3, done.\u001b[K\n",
      "remote: Counting objects: 100% (3/3), done.\u001b[K\n",
      "remote: Total 3 (delta 0), reused 0 (delta 0), pack-reused 0\u001b[K\n",
      "Receiving objects: 100% (3/3), done.\n"
     ]
    }
   ],
   "source": [
    "!git clone https://github.com/M-Moeini/EEG.git /content/EEG"
   ]
  },
  {
   "cell_type": "code",
   "execution_count": 6,
   "metadata": {
    "executionInfo": {
     "elapsed": 259,
     "status": "ok",
     "timestamp": 1696291977399,
     "user": {
      "displayName": "Mahdi Moeini",
      "userId": "03671813669356560168"
     },
     "user_tz": -210
    },
    "id": "gVs2yFaO4T9p"
   },
   "outputs": [],
   "source": [
    "!rm -r /content/EEG"
   ]
  }
 ],
 "metadata": {
  "colab": {
   "authorship_tag": "ABX9TyMHUhd3A17lB+9o7HFw3Jl4",
   "provenance": []
  },
  "kernelspec": {
   "display_name": "Python 3.9",
   "language": "python",
   "name": "python3"
  },
  "language_info": {
   "codemirror_mode": {
    "name": "ipython",
    "version": 3
   },
   "file_extension": ".py",
   "mimetype": "text/x-python",
   "name": "python",
   "nbconvert_exporter": "python",
   "pygments_lexer": "ipython3",
   "version": "3.9.6"
  }
 },
 "nbformat": 4,
 "nbformat_minor": 4
}
