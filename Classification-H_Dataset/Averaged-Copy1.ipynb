{
 "cells": [
  {
   "cell_type": "code",
   "execution_count": 1,
   "metadata": {
    "id": "-12IbBK6QqcT"
   },
   "outputs": [],
   "source": [
    "#Test to figure out how much data is needed for training\n",
    "import mne\n",
    "import scipy.io as sp\n",
    "import numpy as np\n",
    "import random\n",
    "import pandas as pd\n",
    "import multiprocessing as mp\n",
    "import concurrent.futures\n",
    "from mne.decoding import CSP\n",
    "import pymrmr\n",
    "from sklearn.model_selection import train_test_split, StratifiedKFold\n",
    "from sklearn.ensemble import RandomForestClassifier as RF\n",
    "from sklearn.discriminant_analysis import LinearDiscriminantAnalysis as LDA\n",
    "from sklearn.metrics import accuracy_score, confusion_matrix, precision_score, recall_score, ConfusionMatrixDisplay\n",
    "import matplotlib.pyplot as plt\n",
    "import logging\n",
    "\n"
   ]
  },
  {
   "cell_type": "code",
   "execution_count": 2,
   "metadata": {},
   "outputs": [],
   "source": [
    "num_channels = 64\n",
    "epoch_length = 1123\n",
    "sampling_freq = 250\n",
    "number_of_runs = 10\n",
    "number_of_splits = 10\n",
    "number_of_components = 10\n",
    "number_of_selected_features = 10\n",
    "number_of_processes = 15\n",
    "number_of_bands = 9\n",
    "# rf = pd.DataFrame()\n",
    "column_names = ['participant', 'class1', 'class2','running_time','test_acc','train_acc','test_size','train_size','train_block','test_block']\n",
    "# rf = rf.reindex(columns=column_names)\n"
   ]
  },
  {
   "cell_type": "code",
   "execution_count": 5,
   "metadata": {},
   "outputs": [],
   "source": [
    "# #Frame Maker\n",
    "# df = pd.read_csv(\"frame.csv\")\n",
    "# for i in range(2,16):\n",
    "#     if i!=9:\n",
    "#         df.to_csv('P'+str(i)+'.csv',index=False)\n",
    "    "
   ]
  },
  {
   "cell_type": "code",
   "execution_count": 3,
   "metadata": {},
   "outputs": [],
   "source": [
    "def calc_csp(x_train, y_train, x_test):\n",
    "    \n",
    "        csp = CSP(number_of_components)\n",
    "        csp_fit = csp.fit(x_train, y_train)\n",
    "        train_feat = csp_fit.transform(x_train)\n",
    "        test_feat = csp_fit.transform(x_test)\n",
    "        return train_feat, test_feat"
   ]
  },
  {
   "cell_type": "code",
   "execution_count": 4,
   "metadata": {},
   "outputs": [],
   "source": [
    "def class_extraction(number_of_epochs, class_1, class_2, data, labels):\n",
    "    size = sum(labels[:,0] == class_1) + sum(labels[:,0] == class_2)\n",
    "    Final_labels = np.zeros((size,1)).astype(int)\n",
    "    dataset = np.zeros((size,num_channels, epoch_length))\n",
    "    index = 0\n",
    "    for i in range(number_of_epochs):\n",
    "        if labels[i,0] == class_1 or labels[i,0] == class_2:\n",
    "            dataset[index,:,:] = data[i,:,:]\n",
    "            Final_labels[index,0] = labels[i,0]\n",
    "            index = index + 1\n",
    "        else:\n",
    "            continue\n",
    "            \n",
    "    return dataset, Final_labels"
   ]
  },
  {
   "cell_type": "code",
   "execution_count": 5,
   "metadata": {},
   "outputs": [],
   "source": [
    "def feature_extraction(dataset, labels, number_of_bands, test_data):\n",
    "\n",
    "    low_cutoff = 0\n",
    "    \n",
    "    for b in range(number_of_bands):\n",
    "        logging.getLogger('mne').setLevel(logging.WARNING)\n",
    "        low_cutoff += 4\n",
    "        data = dataset.copy()\n",
    "        data_test = test_data.copy()\n",
    "        filtered_data = mne.filter.filter_data(data, sampling_freq, low_cutoff, low_cutoff + 4, verbose = False, n_jobs = 4)\n",
    "        filtered_data_test = mne.filter.filter_data(test_data, sampling_freq, low_cutoff, low_cutoff + 4, verbose = False, n_jobs = 4)\n",
    "        [train_feats, test_feats] = calc_csp(filtered_data, labels[:,0], filtered_data_test)\n",
    "        if b == 0:\n",
    "            train_features = train_feats\n",
    "            test_features = test_feats\n",
    "        else:\n",
    "            train_features = np.concatenate((train_features, train_feats), axis = 1)\n",
    "            test_features = np.concatenate((test_features, test_feats), axis = 1)\n",
    "    \n",
    "    return train_features, test_features"
   ]
  },
  {
   "cell_type": "code",
   "execution_count": 6,
   "metadata": {},
   "outputs": [],
   "source": [
    "def feature_selection(train_features, labels, number_of_selected_features):\n",
    "    X = pd.DataFrame(train_features)\n",
    "    y = pd.DataFrame(labels)\n",
    "    K = number_of_selected_features\n",
    "    \n",
    "    df = pd.concat([y,X], axis = 1)\n",
    "    df.columns = df.columns.astype(str)\n",
    "        \n",
    "    selected_features = list(map(int, pymrmr.mRMR(df, 'MID', K)))\n",
    "    return selected_features"
   ]
  },
  {
   "cell_type": "code",
   "execution_count": 7,
   "metadata": {},
   "outputs": [],
   "source": [
    "def data_reader(path):\n",
    "    data = mne.read_epochs_eeglab(path)\n",
    "    data = data.to_data_frame()\n",
    "    return data"
   ]
  },
  {
   "cell_type": "code",
   "execution_count": 8,
   "metadata": {},
   "outputs": [],
   "source": [
    "# data.tail()\n",
    "def left_epoch_finder(data):\n",
    "    cutdata = data[data['condition']=='Left']\n",
    "    left_epochs_list = cutdata['epoch'].unique()\n",
    "    return left_epochs_list"
   ]
  },
  {
   "cell_type": "code",
   "execution_count": 9,
   "metadata": {},
   "outputs": [],
   "source": [
    "def find_starting_points(numbers):\n",
    "    starting_points = []\n",
    "    current_group = []\n",
    "\n",
    "    for i, num in enumerate(numbers):\n",
    "        if i == 0 or num != numbers[i-1] + 1:\n",
    "            # Start of a new group\n",
    "            current_group = [num]\n",
    "            starting_points.append(num)\n",
    "        else:\n",
    "            current_group.append(num)\n",
    "\n",
    "    return starting_points\n"
   ]
  },
  {
   "cell_type": "code",
   "execution_count": 10,
   "metadata": {},
   "outputs": [],
   "source": [
    "def preprocessor(X_train_df,X_test_df,data):\n",
    "    \n",
    "    X1 = X_train_df[X_train_df.columns[3:]].to_numpy()\n",
    "    X1 = np.transpose(X1)\n",
    "    print(X1.shape)\n",
    "    \n",
    "    X2 = X_test_df[X_test_df.columns[3:]].to_numpy()\n",
    "    X2 = np.transpose(X2)  \n",
    "    # number_of_epochs_tr = int(len(X_train_df)/epoch_length)\n",
    "    # number_of_epochs_te = int(len(X_test_df)/epoch_length)\n",
    "    \n",
    "    epoch_range_X_tr = X_train_df['epoch'].unique()\n",
    "    epoch_range_data = data['epoch'].unique()\n",
    "    epoch_range_X_te = X_test_df['epoch'].unique()\n",
    "    a = epoch_range_X_tr\n",
    "    b = epoch_range_data\n",
    "    c = epoch_range_X_te\n",
    "    # print(a,b,\"ab\")\n",
    "    number_of_epochs_tr= a[-1]-a[0]+1\n",
    "    number_of_epochs_te = c[-1]-c[0]+1\n",
    "    thr_up = a[-1]\n",
    "    thr_dw = a[0]\n",
    "    period = a[-1]-a[0]+1\n",
    "    number_of_epochs_all = b[-1]-b[0]+1\n",
    "    thr_dw_te = c[0]\n",
    "    # number_of_epochs_te = number_of_epochs_all-number_of_epochs_tr\n",
    "    print(number_of_epochs_te,\"number_of_epochs_te\")\n",
    "    # random.seed(42)\n",
    "    randomlist_all = random.sample(range(b[0],b[-1]+1),number_of_epochs_all)\n",
    "    randomlist_tr = random.sample(range(a[0],a[-1]+1),number_of_epochs_tr)\n",
    "    randomlist_te = random.sample(range(c[0],c[-1]+1),number_of_epochs_te)\n",
    "    print(c[0],c[-1],\"c0c-1\")\n",
    "    # randomlist_te = [i for i in randomlist_all if i not in randomlist_tr]\n",
    "    # print(randomlist_te,\"randomlist_te\")\n",
    "    # print(randomlist_te)\n",
    "    \n",
    "    # randomlist_tr = random.sample(range(number_of_epochs_tr), number_of_epochs_tr)\n",
    "    # randomlist_te = random.sample(range(number_of_epochs_tr,(number_of_epochs_tr+number_of_epochs_te)),number_of_epochs_te)\n",
    "\n",
    "    data_tr = np.zeros((number_of_epochs_tr,num_channels, epoch_length))\n",
    "    labels_tr = np.zeros((number_of_epochs_tr,1)).astype(int)\n",
    "    \n",
    "    data_te = np.zeros((number_of_epochs_te,num_channels, epoch_length))\n",
    "    labels_te = np.zeros((number_of_epochs_te,1)).astype(int)\n",
    "\n",
    "    for i in range(number_of_epochs_tr):\n",
    "        # print(randomlist_tr[i])\n",
    "        c = 1 if randomlist_tr[i]>=period else 0\n",
    "        d = randomlist_tr[i]-(c*thr_dw)\n",
    "        data_tr[i,:,:] = X1[:, d*epoch_length:(d + 1)*epoch_length]\n",
    "        if (X_train_df['condition'][randomlist_tr[i]*epoch_length] == 'Left'):\n",
    "            labels_tr[i,0] = 0\n",
    "        elif(X_train_df['condition'][randomlist_tr[i]*epoch_length] == 'Right'):\n",
    "            labels_tr[i,0] = 1\n",
    "        elif(X_train_df['condition'][randomlist_tr[i]*epoch_length] == 'Feet'):\n",
    "            labels_tr[i,0] = 2\n",
    "        elif(X_train_df['condition'][randomlist_tr[i]*epoch_length] == 'Tongue'):\n",
    "            labels_tr[i,0] = 3\n",
    "        elif(X_train_df['condition'][randomlist_tr[i]*epoch_length] == 'Mis'):\n",
    "            labels_tr[i,0] = 4\n",
    "        elif(X_train_df['condition'][randomlist_tr[i]*epoch_length] == 'Si'):\n",
    "            labels_tr[i,0] = 5\n",
    "        elif(X_train_df['condition'][randomlist_tr[i]*epoch_length] == 'Rest'):\n",
    "            labels_tr[i,0] = 6\n",
    "        else:\n",
    "            raise Exception(\"Labeling Error!!!\")          \n",
    "      \n",
    "    for i in range(number_of_epochs_te):\n",
    "        # print(randomlist_te[i],\"test\")\n",
    "        # print(thr_up,\"thr_up\")\n",
    "        # print(period,\"period\")\n",
    "        # print(d,\"d\")\n",
    "        # c = 1 if randomlist_te[i]>thr_up else 0\n",
    "        # d = randomlist_te[i] - (c*period)\n",
    "        d = randomlist_te[i]-thr_dw_te\n",
    "        data_te[i,:,:] = X2[:, d*epoch_length:(d + 1)*epoch_length]\n",
    "        if (X_test_df['condition'][randomlist_te[i]*epoch_length] == 'Left'):\n",
    "            labels_te[i,0] = 0\n",
    "        elif(X_test_df['condition'][randomlist_te[i]*epoch_length] == 'Right'):\n",
    "            labels_te[i,0] = 1\n",
    "        elif(X_test_df['condition'][randomlist_te[i]*epoch_length] == 'Feet'):\n",
    "            labels_te[i,0] = 2\n",
    "        elif(X_test_df['condition'][randomlist_te[i]*epoch_length] == 'Tongue'):\n",
    "            labels_te[i,0] = 3\n",
    "        elif(X_test_df['condition'][randomlist_te[i]*epoch_length] == 'Mis'):\n",
    "            labels_te[i,0] = 4\n",
    "        elif(X_test_df['condition'][randomlist_te[i]*epoch_length] == 'Si'):\n",
    "            labels_te[i,0] = 5\n",
    "        elif(X_test_df['condition'][randomlist_te[i]*epoch_length] == 'Rest'):\n",
    "            labels_te[i,0] = 6\n",
    "        else:\n",
    "            raise Exception(\"Labeling Error!!!\")\n",
    "     \n",
    "    return data_tr,data_te,labels_tr,labels_te,number_of_epochs_tr,number_of_epochs_te\n",
    "    "
   ]
  },
  {
   "cell_type": "code",
   "execution_count": 12,
   "metadata": {},
   "outputs": [
    {
     "name": "stderr",
     "output_type": "stream",
     "text": [
      "/tmp/ipykernel_8793/2716586413.py:2: RuntimeWarning: Unknown types found, setting as type EEG:\n",
      "ref: ['FCz']\n",
      "  data = mne.read_epochs_eeglab(path)\n"
     ]
    },
    {
     "name": "stdout",
     "output_type": "stream",
     "text": [
      "[0, 70, 140, 210, 280, 350, 420] starting_left_epochs\n",
      "[0, 78610, 157220, 235830, 314440, 393050, 471660] starting_left_samples\n",
      "\n",
      "\n",
      "\n",
      "\n",
      "\n",
      "we are in blc num 2 :\n",
      "\n",
      "\n",
      "\n",
      "\n",
      "\n",
      "(64, 78610)\n",
      "70 number_of_epochs_te\n",
      "70 139 c0c-1\n",
      "(20, 64, 1123) X_te.shape\n",
      "(20, 90) X_train_features.shape\n",
      "(20, 1) y_tr.shape\n",
      "(64, 78610)\n",
      "70 number_of_epochs_te\n",
      "70 139 c0c-1\n",
      "(20, 64, 1123) X_te.shape\n"
     ]
    },
    {
     "ename": "KeyboardInterrupt",
     "evalue": "",
     "output_type": "error",
     "traceback": [
      "\u001b[0;31m---------------------------------------------------------------------------\u001b[0m",
      "\u001b[0;31mKeyboardInterrupt\u001b[0m                         Traceback (most recent call last)",
      "Cell \u001b[0;32mIn[12], line 51\u001b[0m\n\u001b[1;32m     49\u001b[0m [X_te, y_te] \u001b[38;5;241m=\u001b[39m class_extraction(number_of_epochs_te, class_1, class_2, X_te_raw, y_te_raw) \n\u001b[1;32m     50\u001b[0m \u001b[38;5;28mprint\u001b[39m(X_te\u001b[38;5;241m.\u001b[39mshape,\u001b[38;5;124m\"\u001b[39m\u001b[38;5;124mX_te.shape\u001b[39m\u001b[38;5;124m\"\u001b[39m)\n\u001b[0;32m---> 51\u001b[0m [X_train_features, X_test_features] \u001b[38;5;241m=\u001b[39m \u001b[43mfeature_extraction\u001b[49m\u001b[43m(\u001b[49m\u001b[43mX_tr\u001b[49m\u001b[43m,\u001b[49m\u001b[43m \u001b[49m\u001b[43my_tr\u001b[49m\u001b[43m,\u001b[49m\u001b[43m \u001b[49m\u001b[43mnumber_of_bands\u001b[49m\u001b[43m,\u001b[49m\u001b[43m \u001b[49m\u001b[43mX_te\u001b[49m\u001b[43m)\u001b[49m                          \n\u001b[1;32m     52\u001b[0m selected_features \u001b[38;5;241m=\u001b[39m feature_selection(X_train_features, y_tr, number_of_selected_features)  \n\u001b[1;32m     53\u001b[0m \u001b[38;5;28mprint\u001b[39m(X_train_features\u001b[38;5;241m.\u001b[39mshape,\u001b[38;5;124m\"\u001b[39m\u001b[38;5;124mX_train_features.shape\u001b[39m\u001b[38;5;124m\"\u001b[39m)\n",
      "Cell \u001b[0;32mIn[5], line 11\u001b[0m, in \u001b[0;36mfeature_extraction\u001b[0;34m(dataset, labels, number_of_bands, test_data)\u001b[0m\n\u001b[1;32m      9\u001b[0m data_test \u001b[38;5;241m=\u001b[39m test_data\u001b[38;5;241m.\u001b[39mcopy()\n\u001b[1;32m     10\u001b[0m filtered_data \u001b[38;5;241m=\u001b[39m mne\u001b[38;5;241m.\u001b[39mfilter\u001b[38;5;241m.\u001b[39mfilter_data(data, sampling_freq, low_cutoff, low_cutoff \u001b[38;5;241m+\u001b[39m \u001b[38;5;241m4\u001b[39m, verbose \u001b[38;5;241m=\u001b[39m \u001b[38;5;28;01mFalse\u001b[39;00m, n_jobs \u001b[38;5;241m=\u001b[39m \u001b[38;5;241m4\u001b[39m)\n\u001b[0;32m---> 11\u001b[0m filtered_data_test \u001b[38;5;241m=\u001b[39m \u001b[43mmne\u001b[49m\u001b[38;5;241;43m.\u001b[39;49m\u001b[43mfilter\u001b[49m\u001b[38;5;241;43m.\u001b[39;49m\u001b[43mfilter_data\u001b[49m\u001b[43m(\u001b[49m\u001b[43mtest_data\u001b[49m\u001b[43m,\u001b[49m\u001b[43m \u001b[49m\u001b[43msampling_freq\u001b[49m\u001b[43m,\u001b[49m\u001b[43m \u001b[49m\u001b[43mlow_cutoff\u001b[49m\u001b[43m,\u001b[49m\u001b[43m \u001b[49m\u001b[43mlow_cutoff\u001b[49m\u001b[43m \u001b[49m\u001b[38;5;241;43m+\u001b[39;49m\u001b[43m \u001b[49m\u001b[38;5;241;43m4\u001b[39;49m\u001b[43m,\u001b[49m\u001b[43m \u001b[49m\u001b[43mverbose\u001b[49m\u001b[43m \u001b[49m\u001b[38;5;241;43m=\u001b[39;49m\u001b[43m \u001b[49m\u001b[38;5;28;43;01mFalse\u001b[39;49;00m\u001b[43m,\u001b[49m\u001b[43m \u001b[49m\u001b[43mn_jobs\u001b[49m\u001b[43m \u001b[49m\u001b[38;5;241;43m=\u001b[39;49m\u001b[43m \u001b[49m\u001b[38;5;241;43m4\u001b[39;49m\u001b[43m)\u001b[49m\n\u001b[1;32m     12\u001b[0m [train_feats, test_feats] \u001b[38;5;241m=\u001b[39m calc_csp(filtered_data, labels[:,\u001b[38;5;241m0\u001b[39m], filtered_data_test)\n\u001b[1;32m     13\u001b[0m \u001b[38;5;28;01mif\u001b[39;00m b \u001b[38;5;241m==\u001b[39m \u001b[38;5;241m0\u001b[39m:\n",
      "File \u001b[0;32m<decorator-gen-151>:10\u001b[0m, in \u001b[0;36mfilter_data\u001b[0;34m(data, sfreq, l_freq, h_freq, picks, filter_length, l_trans_bandwidth, h_trans_bandwidth, n_jobs, method, iir_params, copy, phase, fir_window, fir_design, pad, verbose)\u001b[0m\n",
      "File \u001b[0;32m~/jupyter2/lib/python3.8/site-packages/mne/filter.py:1119\u001b[0m, in \u001b[0;36mfilter_data\u001b[0;34m(data, sfreq, l_freq, h_freq, picks, filter_length, l_trans_bandwidth, h_trans_bandwidth, n_jobs, method, iir_params, copy, phase, fir_window, fir_design, pad, verbose)\u001b[0m\n\u001b[1;32m   1104\u001b[0m filt \u001b[38;5;241m=\u001b[39m create_filter(\n\u001b[1;32m   1105\u001b[0m     data,\n\u001b[1;32m   1106\u001b[0m     sfreq,\n\u001b[0;32m   (...)\u001b[0m\n\u001b[1;32m   1116\u001b[0m     fir_design,\n\u001b[1;32m   1117\u001b[0m )\n\u001b[1;32m   1118\u001b[0m \u001b[38;5;28;01mif\u001b[39;00m method \u001b[38;5;129;01min\u001b[39;00m (\u001b[38;5;124m\"\u001b[39m\u001b[38;5;124mfir\u001b[39m\u001b[38;5;124m\"\u001b[39m, \u001b[38;5;124m\"\u001b[39m\u001b[38;5;124mfft\u001b[39m\u001b[38;5;124m\"\u001b[39m):\n\u001b[0;32m-> 1119\u001b[0m     data \u001b[38;5;241m=\u001b[39m \u001b[43m_overlap_add_filter\u001b[49m\u001b[43m(\u001b[49m\u001b[43mdata\u001b[49m\u001b[43m,\u001b[49m\u001b[43m \u001b[49m\u001b[43mfilt\u001b[49m\u001b[43m,\u001b[49m\u001b[43m \u001b[49m\u001b[38;5;28;43;01mNone\u001b[39;49;00m\u001b[43m,\u001b[49m\u001b[43m \u001b[49m\u001b[43mphase\u001b[49m\u001b[43m,\u001b[49m\u001b[43m \u001b[49m\u001b[43mpicks\u001b[49m\u001b[43m,\u001b[49m\u001b[43m \u001b[49m\u001b[43mn_jobs\u001b[49m\u001b[43m,\u001b[49m\u001b[43m \u001b[49m\u001b[43mcopy\u001b[49m\u001b[43m,\u001b[49m\u001b[43m \u001b[49m\u001b[43mpad\u001b[49m\u001b[43m)\u001b[49m\n\u001b[1;32m   1120\u001b[0m \u001b[38;5;28;01melse\u001b[39;00m:\n\u001b[1;32m   1121\u001b[0m     data \u001b[38;5;241m=\u001b[39m _iir_filter(data, filt, picks, n_jobs, copy, phase)\n",
      "File \u001b[0;32m~/jupyter2/lib/python3.8/site-packages/mne/filter.py:395\u001b[0m, in \u001b[0;36m_overlap_add_filter\u001b[0;34m(x, h, n_fft, phase, picks, n_jobs, copy, pad)\u001b[0m\n\u001b[1;32m    391\u001b[0m         x[p] \u001b[38;5;241m=\u001b[39m _1d_overlap_filter(\n\u001b[1;32m    392\u001b[0m             x[p], \u001b[38;5;28mlen\u001b[39m(h), n_edge, phase, cuda_dict, pad, n_fft\n\u001b[1;32m    393\u001b[0m         )\n\u001b[1;32m    394\u001b[0m \u001b[38;5;28;01melse\u001b[39;00m:\n\u001b[0;32m--> 395\u001b[0m     data_new \u001b[38;5;241m=\u001b[39m \u001b[43mparallel\u001b[49m\u001b[43m(\u001b[49m\n\u001b[1;32m    396\u001b[0m \u001b[43m        \u001b[49m\u001b[43mp_fun\u001b[49m\u001b[43m(\u001b[49m\u001b[43mx\u001b[49m\u001b[43m[\u001b[49m\u001b[43mp\u001b[49m\u001b[43m]\u001b[49m\u001b[43m,\u001b[49m\u001b[43m \u001b[49m\u001b[38;5;28;43mlen\u001b[39;49m\u001b[43m(\u001b[49m\u001b[43mh\u001b[49m\u001b[43m)\u001b[49m\u001b[43m,\u001b[49m\u001b[43m \u001b[49m\u001b[43mn_edge\u001b[49m\u001b[43m,\u001b[49m\u001b[43m \u001b[49m\u001b[43mphase\u001b[49m\u001b[43m,\u001b[49m\u001b[43m \u001b[49m\u001b[43mcuda_dict\u001b[49m\u001b[43m,\u001b[49m\u001b[43m \u001b[49m\u001b[43mpad\u001b[49m\u001b[43m,\u001b[49m\u001b[43m \u001b[49m\u001b[43mn_fft\u001b[49m\u001b[43m)\u001b[49m\u001b[43m \u001b[49m\u001b[38;5;28;43;01mfor\u001b[39;49;00m\u001b[43m \u001b[49m\u001b[43mp\u001b[49m\u001b[43m \u001b[49m\u001b[38;5;129;43;01min\u001b[39;49;00m\u001b[43m \u001b[49m\u001b[43mpicks\u001b[49m\n\u001b[1;32m    397\u001b[0m \u001b[43m    \u001b[49m\u001b[43m)\u001b[49m\n\u001b[1;32m    398\u001b[0m     \u001b[38;5;28;01mfor\u001b[39;00m pp, p \u001b[38;5;129;01min\u001b[39;00m \u001b[38;5;28menumerate\u001b[39m(picks):\n\u001b[1;32m    399\u001b[0m         x[p] \u001b[38;5;241m=\u001b[39m data_new[pp]\n",
      "File \u001b[0;32m~/jupyter2/lib/python3.8/site-packages/joblib/parallel.py:1944\u001b[0m, in \u001b[0;36mParallel.__call__\u001b[0;34m(self, iterable)\u001b[0m\n\u001b[1;32m   1938\u001b[0m \u001b[38;5;66;03m# The first item from the output is blank, but it makes the interpreter\u001b[39;00m\n\u001b[1;32m   1939\u001b[0m \u001b[38;5;66;03m# progress until it enters the Try/Except block of the generator and\u001b[39;00m\n\u001b[1;32m   1940\u001b[0m \u001b[38;5;66;03m# reach the first `yield` statement. This starts the aynchronous\u001b[39;00m\n\u001b[1;32m   1941\u001b[0m \u001b[38;5;66;03m# dispatch of the tasks to the workers.\u001b[39;00m\n\u001b[1;32m   1942\u001b[0m \u001b[38;5;28mnext\u001b[39m(output)\n\u001b[0;32m-> 1944\u001b[0m \u001b[38;5;28;01mreturn\u001b[39;00m output \u001b[38;5;28;01mif\u001b[39;00m \u001b[38;5;28mself\u001b[39m\u001b[38;5;241m.\u001b[39mreturn_generator \u001b[38;5;28;01melse\u001b[39;00m \u001b[38;5;28;43mlist\u001b[39;49m\u001b[43m(\u001b[49m\u001b[43moutput\u001b[49m\u001b[43m)\u001b[49m\n",
      "File \u001b[0;32m~/jupyter2/lib/python3.8/site-packages/joblib/parallel.py:1587\u001b[0m, in \u001b[0;36mParallel._get_outputs\u001b[0;34m(self, iterator, pre_dispatch)\u001b[0m\n\u001b[1;32m   1584\u001b[0m     \u001b[38;5;28;01myield\u001b[39;00m\n\u001b[1;32m   1586\u001b[0m     \u001b[38;5;28;01mwith\u001b[39;00m \u001b[38;5;28mself\u001b[39m\u001b[38;5;241m.\u001b[39m_backend\u001b[38;5;241m.\u001b[39mretrieval_context():\n\u001b[0;32m-> 1587\u001b[0m         \u001b[38;5;28;01myield from\u001b[39;00m \u001b[38;5;28mself\u001b[39m\u001b[38;5;241m.\u001b[39m_retrieve()\n\u001b[1;32m   1589\u001b[0m \u001b[38;5;28;01mexcept\u001b[39;00m \u001b[38;5;167;01mGeneratorExit\u001b[39;00m:\n\u001b[1;32m   1590\u001b[0m     \u001b[38;5;66;03m# The generator has been garbage collected before being fully\u001b[39;00m\n\u001b[1;32m   1591\u001b[0m     \u001b[38;5;66;03m# consumed. This aborts the remaining tasks if possible and warn\u001b[39;00m\n\u001b[1;32m   1592\u001b[0m     \u001b[38;5;66;03m# the user if necessary.\u001b[39;00m\n\u001b[1;32m   1593\u001b[0m     \u001b[38;5;28mself\u001b[39m\u001b[38;5;241m.\u001b[39m_exception \u001b[38;5;241m=\u001b[39m \u001b[38;5;28;01mTrue\u001b[39;00m\n",
      "File \u001b[0;32m~/jupyter2/lib/python3.8/site-packages/joblib/parallel.py:1699\u001b[0m, in \u001b[0;36mParallel._retrieve\u001b[0;34m(self)\u001b[0m\n\u001b[1;32m   1694\u001b[0m \u001b[38;5;66;03m# If the next job is not ready for retrieval yet, we just wait for\u001b[39;00m\n\u001b[1;32m   1695\u001b[0m \u001b[38;5;66;03m# async callbacks to progress.\u001b[39;00m\n\u001b[1;32m   1696\u001b[0m \u001b[38;5;28;01mif\u001b[39;00m ((\u001b[38;5;28mlen\u001b[39m(\u001b[38;5;28mself\u001b[39m\u001b[38;5;241m.\u001b[39m_jobs) \u001b[38;5;241m==\u001b[39m \u001b[38;5;241m0\u001b[39m) \u001b[38;5;129;01mor\u001b[39;00m\n\u001b[1;32m   1697\u001b[0m     (\u001b[38;5;28mself\u001b[39m\u001b[38;5;241m.\u001b[39m_jobs[\u001b[38;5;241m0\u001b[39m]\u001b[38;5;241m.\u001b[39mget_status(\n\u001b[1;32m   1698\u001b[0m         timeout\u001b[38;5;241m=\u001b[39m\u001b[38;5;28mself\u001b[39m\u001b[38;5;241m.\u001b[39mtimeout) \u001b[38;5;241m==\u001b[39m TASK_PENDING)):\n\u001b[0;32m-> 1699\u001b[0m     \u001b[43mtime\u001b[49m\u001b[38;5;241;43m.\u001b[39;49m\u001b[43msleep\u001b[49m\u001b[43m(\u001b[49m\u001b[38;5;241;43m0.01\u001b[39;49m\u001b[43m)\u001b[49m\n\u001b[1;32m   1700\u001b[0m     \u001b[38;5;28;01mcontinue\u001b[39;00m\n\u001b[1;32m   1702\u001b[0m \u001b[38;5;66;03m# We need to be careful: the job list can be filling up as\u001b[39;00m\n\u001b[1;32m   1703\u001b[0m \u001b[38;5;66;03m# we empty it and Python list are not thread-safe by\u001b[39;00m\n\u001b[1;32m   1704\u001b[0m \u001b[38;5;66;03m# default hence the use of the lock\u001b[39;00m\n",
      "\u001b[0;31mKeyboardInterrupt\u001b[0m: "
     ]
    }
   ],
   "source": [
    "class_2 = 6\n",
    "# train_acc_list = []\n",
    "# test_acc_list = []\n",
    "class_1_list=[1,3,4]\n",
    "p_num_list = [2]\n",
    "for P_num in p_num_list:\n",
    "\n",
    "        data = data_reader('/project/6067835/mahdi146/Cedar/Data/P'+str(P_num)+'.set')\n",
    "        left_epochs_list = left_epoch_finder(data)\n",
    "        starting_left_epochs = find_starting_points(left_epochs_list)\n",
    "        starting_left_samples = [epoch_length* item for item in starting_left_epochs]\n",
    "        \n",
    "        print(starting_left_epochs,\"starting_left_epochs\")\n",
    "        print(starting_left_samples,\"starting_left_samples\")\n",
    "        tr_blk_list=[1,12,123,1234]\n",
    "        for trblk in range(1,5):\n",
    "            upper_margin_tr=starting_left_samples[trblk]\n",
    "            data1 = data.copy()\n",
    "            X_train = data1[0:upper_margin_tr]\n",
    "            \n",
    "            \n",
    "            for blk in range(trblk,7):\n",
    "\n",
    "                if blk==6:\n",
    "                    data1 = data.copy()\n",
    "                    lower_margin_te = starting_left_samples[blk]\n",
    "                    X_test = data1[lower_margin_te:]\n",
    "                    \n",
    "                else:\n",
    "                    data1 = data.copy()\n",
    "                    lower_margin_te = starting_left_samples[blk]\n",
    "                    upper_margin_te = starting_left_samples[blk+1]\n",
    "                    X_test = data1[lower_margin_te:upper_margin_te]   \n",
    "                    \n",
    "\n",
    "                tr_blk = tr_blk_list[trblk-1]\n",
    "                te_blk = blk+1\n",
    "                print(f\"\\n\\n\\n\\n\\nwe are in blc num {te_blk} :\\n\\n\\n\\n\\n\")\n",
    "                \n",
    "                for class_1 in class_1_list:\n",
    "                    import time\n",
    "                    start_time = time.time() \n",
    "                    train_acc_list = []\n",
    "                    test_acc_list = []\n",
    "                    for r in range(5):\n",
    "                        data1 = data.copy()   \n",
    "                        X_tr_raw,X_te_raw,y_tr_raw,y_te_raw,number_of_epochs_tr,number_of_epochs_te = preprocessor(X_train,X_test,data1)\n",
    "                        [X_tr, y_tr] = class_extraction(number_of_epochs_tr, class_1, class_2, X_tr_raw, y_tr_raw)\n",
    "                        [X_te, y_te] = class_extraction(number_of_epochs_te, class_1, class_2, X_te_raw, y_te_raw) \n",
    "                        print(X_te.shape,\"X_te.shape\")\n",
    "                        [X_train_features, X_test_features] = feature_extraction(X_tr, y_tr, number_of_bands, X_te)                          \n",
    "                        selected_features = feature_selection(X_train_features, y_tr, number_of_selected_features)  \n",
    "                        print(X_train_features.shape,\"X_train_features.shape\")\n",
    "                        print(y_tr.shape,\"y_tr.shape\")\n",
    "                        # clf = RF(n_jobs=-1,random_state=42)\n",
    "                        # clf = RF(n_jobs=-1)\n",
    "                        clf = RF()\n",
    "                        clf.fit(X_train_features[:, selected_features], y_tr[:,0])\n",
    "                        \n",
    "                        y_pr_te = clf.predict(X_test_features[:, selected_features])\n",
    "                        y_pr_tr = clf.predict(X_train_features[:,selected_features])\n",
    "                    \n",
    "                        accuracy_te = accuracy_score(y_te, y_pr_te)\n",
    "                        test_acc_list.append(accuracy_te)\n",
    "\n",
    "                        accuracy_tr = accuracy_score(y_tr,y_pr_tr)\n",
    "                        train_acc_list.append(accuracy_tr)\n",
    "                        \n",
    "                        class__1 = class_1\n",
    "                        class__2 = class_2\n",
    "                    end_time = time.time()\n",
    "                \n",
    "                    time = end_time-start_time\n",
    "                    print(time,\"time\")\n",
    "                    print(test_acc_list,\"\\n\\n\\n\\n\\n\\ntest_acc_list\\n\\n\\n\\n\\n\")\n",
    "                    \n",
    "                    class_dict = {0:\"Left\",1:\"Right\",2:\"Feet\",3:\"Tongue\",4:\"Mis\",5:\"Si\",6:\"Rest\"}\n",
    "                    participant = P_num\n",
    "                    class1 = class_dict[class__1]\n",
    "                    class2 = class_dict[class__2]\n",
    "                    running_time = time\n",
    "                    test_acc = np.average(test_acc_list)\n",
    "                    train_acc = np.average(train_acc_list)\n",
    "                    test_size = X_te.shape\n",
    "                    train_size = X_tr.shape\n",
    "                    train_block = tr_blk\n",
    "                    test_block = te_blk\n",
    "                \n",
    "                    new_row = [participant, class1, class2,running_time,test_acc,train_acc,test_size,train_size,train_block,test_block]\n",
    "                \n",
    "                    new_row_df = pd.DataFrame([new_row], columns=column_names)\n",
    "                    rf = pd.read_csv('P'+str(22)+'.csv')\n",
    "                    cf = pd.concat([rf, new_row_df], ignore_index=True)\n",
    "                    cf.to_csv('P'+str(22)+'.csv',index=False)\n",
    "\n",
    "    \n",
    "    "
   ]
  },
  {
   "cell_type": "code",
   "execution_count": null,
   "metadata": {},
   "outputs": [],
   "source": [
    "df = pd.DataFrame(columns=column_names)\n",
    "df.to_csv('frame.csv',index=False)"
   ]
  },
  {
   "cell_type": "code",
   "execution_count": 28,
   "metadata": {},
   "outputs": [
    {
     "name": "stdout",
     "output_type": "stream",
     "text": [
      "[0, 78610, 157220, 235830, 314440, 393050, 471660]\n"
     ]
    }
   ],
   "source": [
    "left_epochs_list = left_epoch_finder(data)\n",
    "# print(left_epochs_list)\n",
    "starting_left_epochs = find_starting_points(left_epochs_list)\n",
    "starting_left_samples = [epoch_length* item for item in starting_left_epochs]\n",
    "print(starting_left_samples)"
   ]
  },
  {
   "cell_type": "code",
   "execution_count": 12,
   "metadata": {},
   "outputs": [],
   "source": [
    "df = pd.read_csv('P2.csv')"
   ]
  },
  {
   "cell_type": "code",
   "execution_count": 13,
   "metadata": {},
   "outputs": [
    {
     "data": {
      "text/html": [
       "<div>\n",
       "<style scoped>\n",
       "    .dataframe tbody tr th:only-of-type {\n",
       "        vertical-align: middle;\n",
       "    }\n",
       "\n",
       "    .dataframe tbody tr th {\n",
       "        vertical-align: top;\n",
       "    }\n",
       "\n",
       "    .dataframe thead th {\n",
       "        text-align: right;\n",
       "    }\n",
       "</style>\n",
       "<table border=\"1\" class=\"dataframe\">\n",
       "  <thead>\n",
       "    <tr style=\"text-align: right;\">\n",
       "      <th></th>\n",
       "      <th>participant</th>\n",
       "      <th>class1</th>\n",
       "      <th>class2</th>\n",
       "      <th>running_time</th>\n",
       "      <th>test_acc</th>\n",
       "      <th>train_acc</th>\n",
       "      <th>test_size</th>\n",
       "      <th>train_size</th>\n",
       "      <th>train_block</th>\n",
       "      <th>test_block</th>\n",
       "    </tr>\n",
       "  </thead>\n",
       "  <tbody>\n",
       "    <tr>\n",
       "      <th>0</th>\n",
       "      <td>2</td>\n",
       "      <td>Right</td>\n",
       "      <td>Rest</td>\n",
       "      <td>6.338198</td>\n",
       "      <td>1.00</td>\n",
       "      <td>1.0</td>\n",
       "      <td>(20, 64, 1123)</td>\n",
       "      <td>(20, 64, 1123)</td>\n",
       "      <td>1</td>\n",
       "      <td>2</td>\n",
       "    </tr>\n",
       "    <tr>\n",
       "      <th>2</th>\n",
       "      <td>2</td>\n",
       "      <td>Right</td>\n",
       "      <td>Rest</td>\n",
       "      <td>4.512489</td>\n",
       "      <td>0.80</td>\n",
       "      <td>1.0</td>\n",
       "      <td>(20, 64, 1123)</td>\n",
       "      <td>(20, 64, 1123)</td>\n",
       "      <td>1</td>\n",
       "      <td>3</td>\n",
       "    </tr>\n",
       "    <tr>\n",
       "      <th>4</th>\n",
       "      <td>2</td>\n",
       "      <td>Right</td>\n",
       "      <td>Rest</td>\n",
       "      <td>4.500768</td>\n",
       "      <td>0.80</td>\n",
       "      <td>1.0</td>\n",
       "      <td>(20, 64, 1123)</td>\n",
       "      <td>(20, 64, 1123)</td>\n",
       "      <td>1</td>\n",
       "      <td>4</td>\n",
       "    </tr>\n",
       "    <tr>\n",
       "      <th>6</th>\n",
       "      <td>2</td>\n",
       "      <td>Right</td>\n",
       "      <td>Rest</td>\n",
       "      <td>4.496808</td>\n",
       "      <td>0.90</td>\n",
       "      <td>1.0</td>\n",
       "      <td>(20, 64, 1123)</td>\n",
       "      <td>(20, 64, 1123)</td>\n",
       "      <td>1</td>\n",
       "      <td>5</td>\n",
       "    </tr>\n",
       "    <tr>\n",
       "      <th>8</th>\n",
       "      <td>2</td>\n",
       "      <td>Right</td>\n",
       "      <td>Rest</td>\n",
       "      <td>4.523510</td>\n",
       "      <td>0.75</td>\n",
       "      <td>1.0</td>\n",
       "      <td>(20, 64, 1123)</td>\n",
       "      <td>(20, 64, 1123)</td>\n",
       "      <td>1</td>\n",
       "      <td>6</td>\n",
       "    </tr>\n",
       "    <tr>\n",
       "      <th>10</th>\n",
       "      <td>2</td>\n",
       "      <td>Right</td>\n",
       "      <td>Rest</td>\n",
       "      <td>4.672908</td>\n",
       "      <td>0.90</td>\n",
       "      <td>1.0</td>\n",
       "      <td>(20, 64, 1123)</td>\n",
       "      <td>(20, 64, 1123)</td>\n",
       "      <td>1</td>\n",
       "      <td>7</td>\n",
       "    </tr>\n",
       "  </tbody>\n",
       "</table>\n",
       "</div>"
      ],
      "text/plain": [
       "    participant class1 class2  running_time  test_acc  train_acc   \n",
       "0             2  Right   Rest      6.338198      1.00        1.0  \\\n",
       "2             2  Right   Rest      4.512489      0.80        1.0   \n",
       "4             2  Right   Rest      4.500768      0.80        1.0   \n",
       "6             2  Right   Rest      4.496808      0.90        1.0   \n",
       "8             2  Right   Rest      4.523510      0.75        1.0   \n",
       "10            2  Right   Rest      4.672908      0.90        1.0   \n",
       "\n",
       "         test_size      train_size  train_block  test_block  \n",
       "0   (20, 64, 1123)  (20, 64, 1123)            1           2  \n",
       "2   (20, 64, 1123)  (20, 64, 1123)            1           3  \n",
       "4   (20, 64, 1123)  (20, 64, 1123)            1           4  \n",
       "6   (20, 64, 1123)  (20, 64, 1123)            1           5  \n",
       "8   (20, 64, 1123)  (20, 64, 1123)            1           6  \n",
       "10  (20, 64, 1123)  (20, 64, 1123)            1           7  "
      ]
     },
     "execution_count": 13,
     "metadata": {},
     "output_type": "execute_result"
    }
   ],
   "source": [
    "df = pd.read_csv('P2.csv')\n",
    "fdfr = df[(df['train_block'] == 1) & (df['class1'] == 'Right')]\n",
    "fdfs = df[(df['train_block'] == 1) & (df['class1'] == 'Si')]\n",
    "fdfr.head(10)"
   ]
  },
  {
   "cell_type": "code",
   "execution_count": 14,
   "metadata": {},
   "outputs": [
    {
     "name": "stdout",
     "output_type": "stream",
     "text": [
      "[0.65, 0.9, 0.6, 0.6, 0.65, 0.7] [1.0, 0.8, 0.8, 0.9, 0.75, 0.9]\n"
     ]
    }
   ],
   "source": [
    "right = fdfr[\"test_acc\"].tolist()\n",
    "si = fdfs[\"test_acc\"].tolist()\n",
    "x_axis = fdfr[\"test_block\"].tolist()\n",
    "print(si,right)\n"
   ]
  },
  {
   "cell_type": "code",
   "execution_count": 15,
   "metadata": {},
   "outputs": [
    {
     "data": {
      "image/png": "[encoded data removed]",
      "text/plain": [
       "<Figure size 640x480 with 1 Axes>"
      ]
     },
     "metadata": {},
     "output_type": "display_data"
    }
   ],
   "source": [
    "x =x_axis\n",
    "y1 = right\n",
    "y2 = si\n",
    "plt.plot(x, y1, label='right', color='blue', marker='o')\n",
    "plt.plot(x, y2, label='si', color='red', marker='s')\n",
    "\n",
    "plt.xlabel('test blocks')\n",
    "plt.ylabel('Accuracy')\n",
    "plt.title('P2')\n",
    "plt.show()\n",
    "\n",
    "# plt.savefig('TimeSiVsRest.jpg', format='jpeg')"
   ]
  },
  {
   "cell_type": "code",
   "execution_count": 19,
   "metadata": {},
   "outputs": [
    {
     "data": {
      "image/png": "[encoded data removed]",
      "text/plain": [
       "<Figure size 640x480 with 1 Axes>"
      ]
     },
     "metadata": {},
     "output_type": "display_data"
    }
   ],
   "source": [
    "fdfr = df[(df['train_block'] == 12) & (df['class1'] == 'Right')]\n",
    "fdfs = df[(df['train_block'] == 12) & (df['class1'] == 'Si')]\n",
    "right = fdfr[\"test_acc\"].tolist()\n",
    "si = fdfs[\"test_acc\"].tolist()\n",
    "x_axis = fdfr[\"test_block\"].tolist()\n",
    "x =x_axis\n",
    "y1 = right\n",
    "y2 = si\n",
    "plt.plot(x, y1, label='right', color='blue', marker='o')\n",
    "plt.plot(x, y2, label='si', color='red', marker='s')\n",
    "\n",
    "plt.xlabel('test blocks')\n",
    "plt.ylabel('Accuracy')\n",
    "plt.title('P2')\n",
    "plt.show()"
   ]
  },
  {
   "cell_type": "code",
   "execution_count": null,
   "metadata": {},
   "outputs": [],
   "source": [
    "fig, axes = plt.subplots(nrows=2, ncols=1, figsize=(8, 8))\n",
    "\n",
    "# Draw the first plot (line plot) on the first subplot\n",
    "axes[0].plot(x, y1, label='Chart 1', color='blue', marker='o')\n",
    "axes[0].set_xlabel('X-axis')\n",
    "axes[0].set_ylabel('Y-axis')\n",
    "axes[0].set_title('Line Plot')\n",
    "axes[0].legend()"
   ]
  },
  {
   "cell_type": "code",
   "execution_count": 26,
   "metadata": {},
   "outputs": [
    {
     "name": "stdout",
     "output_type": "stream",
     "text": [
      "equal\n"
     ]
    }
   ],
   "source": [
    "X_train1 = np.load(\"X_test_1.npy\",allow_pickle=True)\n",
    "X_train2 = np.load(\"X_test_2.npy\",allow_pickle=True)\n",
    "if np.array_equal(X_train1, X_train2):\n",
    "    print(\"equal\")\n",
    "else:\n",
    "    print(\"ridi\")"
   ]
  },
  {
   "cell_type": "code",
   "execution_count": 19,
   "metadata": {},
   "outputs": [
    {
     "name": "stdout",
     "output_type": "stream",
     "text": [
      "equal\n",
      "equal\n"
     ]
    }
   ],
   "source": [
    "a = np.load(\"X_train_features_2.npy\",allow_pickle=True)\n",
    "b = np.load(\"X_test_features,_2.npy\",allow_pickle=True)\n",
    "\n",
    "c = np.load(\"X_train_features_1.npy\",allow_pickle=True)\n",
    "d = np.load(\"X_test_features,_1.npy\",allow_pickle=True)\n",
    "\n",
    "if np.array_equal(a, c):\n",
    "    print(\"equal\")\n",
    "else:\n",
    "    print(\"ridi\")\n",
    "    \n",
    "if np.array_equal(b, d):\n",
    "    print(\"equal\")\n",
    "else:\n",
    "    print(\"ridi\")    "
   ]
  },
  {
   "cell_type": "code",
   "execution_count": 17,
   "metadata": {},
   "outputs": [
    {
     "name": "stdout",
     "output_type": "stream",
     "text": [
      "equal\n",
      "equal\n",
      "equal\n",
      "equal\n"
     ]
    }
   ],
   "source": [
    "X_tr_raw2 = np.load(\"X_tr_2.npy\",allow_pickle=True)\n",
    "X_te_raw2 = np.load(\"X_te,_2.npy\",allow_pickle=True)\n",
    "y_tr_raw2 = np.load(\"y_tr,_2.npy\",allow_pickle=True)\n",
    "y_te_raw2 = np.load(\"y_te,_2.npy\",allow_pickle=True)\n",
    "\n",
    "X_tr_raw1 = np.load(\"X_tr_1.npy\",allow_pickle=True)\n",
    "X_te_raw1 = np.load(\"X_te,_1.npy\",allow_pickle=True)\n",
    "y_tr_raw1 = np.load(\"y_tr,_1.npy\",allow_pickle=True)\n",
    "y_te_raw1 = np.load(\"y_te,_1.npy\",allow_pickle=True)\n",
    "\n",
    "if np.array_equal(X_tr_raw2, X_tr_raw1):\n",
    "    print(\"equal\")\n",
    "else:\n",
    "    print(\"ridi\")\n",
    "    \n",
    "if np.array_equal(X_te_raw2, X_te_raw1):\n",
    "    print(\"equal\")\n",
    "else:\n",
    "    print(\"ridi\")    \n",
    "    \n",
    "if np.array_equal(y_tr_raw2, y_tr_raw1):\n",
    "    print(\"equal\")\n",
    "else:\n",
    "    print(\"ridi\") \n",
    "    \n",
    "if np.array_equal(y_te_raw2, y_te_raw1):\n",
    "    print(\"equal\")\n",
    "else:\n",
    "    print(\"ridi\")      "
   ]
  },
  {
   "cell_type": "code",
   "execution_count": 24,
   "metadata": {},
   "outputs": [
    {
     "name": "stdout",
     "output_type": "stream",
     "text": [
      "equal\n",
      "equal\n"
     ]
    }
   ],
   "source": [
    "a = np.load(\"X_train_features[:, selected_features]_2.npy\",allow_pickle=True)\n",
    "b = np.load(\"y_tr[:,0]_2.npy\",allow_pickle=True) \n",
    "\n",
    "c = np.load(\"X_train_features[:, selected_features]_1.npy\",allow_pickle=True)\n",
    "d = np.load(\"y_tr[:,0]_1.npy\",allow_pickle=True) \n",
    "\n",
    "if np.array_equal(a, c):\n",
    "    print(\"equal\")\n",
    "else:\n",
    "    print(\"ridi\")\n",
    "    \n",
    "if np.array_equal(b, d):\n",
    "    print(\"equal\")\n",
    "else:\n",
    "    print(\"ridi\") "
   ]
  },
  {
   "cell_type": "code",
   "execution_count": 26,
   "metadata": {},
   "outputs": [
    {
     "name": "stdout",
     "output_type": "stream",
     "text": [
      "equal\n"
     ]
    }
   ],
   "source": [
    "a = np.load(\"X_test_features[:, selected_features]_2.npy\",allow_pickle=True)\n",
    "c = np.load(\"X_test_features[:, selected_features]_1.npy\",allow_pickle=True) \n",
    "\n",
    "if np.array_equal(a, c):\n",
    "    print(\"equal\")\n",
    "else:\n",
    "    print(\"ridi\")"
   ]
  },
  {
   "cell_type": "code",
   "execution_count": 44,
   "metadata": {},
   "outputs": [
    {
     "name": "stdout",
     "output_type": "stream",
     "text": [
      "[84, 73, 105, 101, 98, 87, 83, 113, 117, 127, 104, 75, 107, 97, 72, 71, 128, 133, 139, 102, 108, 124, 137, 82, 115, 111, 129, 96, 121, 135, 130, 134, 70, 80, 126, 91, 119, 79, 122, 100, 94, 106, 138, 125, 116, 131, 81, 93, 89, 78, 118, 114, 103, 99, 95, 132, 90, 74, 110, 120, 123, 86, 88, 109, 92, 77, 112, 76, 136, 85]\n"
     ]
    }
   ],
   "source": [
    "random.seed(42)\n",
    "\n",
    "# Your code\n",
    "randomlist_te = random.sample(range(70, 140), 70)\n",
    "print(randomlist_te)"
   ]
  }
 ],
 "metadata": {
  "colab": {
   "provenance": []
  },
  "kernelspec": {
   "display_name": "kernel2",
   "language": "python",
   "name": "kernel2"
  },
  "language_info": {
   "codemirror_mode": {
    "name": "ipython",
    "version": 3
   },
   "file_extension": ".py",
   "mimetype": "text/x-python",
   "name": "python",
   "nbconvert_exporter": "python",
   "pygments_lexer": "ipython3",
   "version": "3.8.10"
  }
 },
 "nbformat": 4,
 "nbformat_minor": 4
}
