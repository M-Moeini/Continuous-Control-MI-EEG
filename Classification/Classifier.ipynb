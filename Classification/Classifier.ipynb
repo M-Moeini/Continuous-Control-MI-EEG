{
 "cells": [
  {
   "cell_type": "code",
   "execution_count": 4,
   "metadata": {
    "colab": {
     "base_uri": "https://localhost:8080/"
    },
    "executionInfo": {
     "elapsed": 4,
     "status": "ok",
     "timestamp": 1696289517013,
     "user": {
      "displayName": "Mahdi Moeini",
      "userId": "03671813669356560168"
     },
     "user_tz": -210
    },
    "id": "za0kvkt7u2Z5",
    "outputId": "78ba6e7e-7a2c-4096-e595-beca84ab98ba"
   },
   "outputs": [
    {
     "name": "stdout",
     "output_type": "stream",
     "text": [
      "hello world\n",
      "Hi world\n"
     ]
    }
   ],
   "source": [
    "print(\"hello world\")\n",
    "print(\"Hi world\")"
   ]
  }
 ],
 "metadata": {
  "colab": {
   "authorship_tag": "ABX9TyMHUhd3A17lB+9o7HFw3Jl4",
   "provenance": []
  },
  "kernelspec": {
   "display_name": "kernel2",
   "language": "python",
   "name": "kernel2"
  },
  "language_info": {
   "codemirror_mode": {
    "name": "ipython",
    "version": 3
   },
   "file_extension": ".py",
   "mimetype": "text/x-python",
   "name": "python",
   "nbconvert_exporter": "python",
   "pygments_lexer": "ipython3",
   "version": "3.8.10"
  },
  "vscode": {
   "interpreter": {
    "hash": "e41d4561028816b5428aebb83a83c059bdf12e0224e471a2c21e6a82f3a5abf0"
   }
  }
 },
 "nbformat": 4,
 "nbformat_minor": 4
}
